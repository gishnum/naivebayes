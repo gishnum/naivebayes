{
  "nbformat": 4,
  "nbformat_minor": 0,
  "metadata": {
    "colab": {
      "name": "Naive_bayes_gaussian",
      "version": "0.3.2",
      "provenance": [],
      "include_colab_link": true
    },
    "kernelspec": {
      "name": "python3",
      "display_name": "Python 3"
    }
  },
  "cells": [
    {
      "cell_type": "markdown",
      "metadata": {
        "id": "view-in-github",
        "colab_type": "text"
      },
      "source": [
        "<a href=\"https://colab.research.google.com/github/gishnum/naivebayes/blob/master/Naive_bayes_gaussian.ipynb\" target=\"_parent\"><img src=\"https://colab.research.google.com/assets/colab-badge.svg\" alt=\"Open In Colab\"/></a>"
      ]
    },
    {
      "cell_type": "code",
      "metadata": {
        "id": "zpGwlEzC04ls",
        "colab_type": "code",
        "colab": {}
      },
      "source": [
        ""
      ],
      "execution_count": 0,
      "outputs": []
    },
    {
      "cell_type": "markdown",
      "metadata": {
        "id": "zSul2IRy08Hj",
        "colab_type": "text"
      },
      "source": [
        "gaussian naive bayes __ data - sonar.csv"
      ]
    },
    {
      "cell_type": "code",
      "metadata": {
        "id": "j-xV5Psv1Cjr",
        "colab_type": "code",
        "colab": {}
      },
      "source": [
        "import pandas as pd\n",
        "\n",
        "url = 'https://raw.githubusercontent.com/gishnum/naive-bayes-/master/Sonar%20(1).csv?token=AKA6I5TGOV3FEIX237X3RCK45N5Q6'\n",
        "\n",
        "df = pd.read_csv(url)"
      ],
      "execution_count": 0,
      "outputs": []
    },
    {
      "cell_type": "markdown",
      "metadata": {
        "id": "TokqG0bf07Tk",
        "colab_type": "text"
      },
      "source": [
        "df= pd.read_csv(url)"
      ]
    },
    {
      "cell_type": "code",
      "metadata": {
        "id": "31LRyKrO1ks1",
        "colab_type": "code",
        "colab": {}
      },
      "source": [
        "dum_sonar = pd.get_dummies(df,drop_first=True)\n",
        "\n",
        "from sklearn.model_selection import train_test_split\n",
        "from sklearn.metrics import confusion_matrix, classification_report\n",
        "from sklearn.metrics import accuracy_score\n",
        "from sklearn.naive_bayes import GaussianNB\n",
        "\n"
      ],
      "execution_count": 0,
      "outputs": []
    },
    {
      "cell_type": "code",
      "metadata": {
        "id": "wuBW3Fsp2voy",
        "colab_type": "code",
        "colab": {}
      },
      "source": [
        "X =  dum_sonar.iloc[:,0:60]\n",
        "y= dum_sonar.iloc[:,60]"
      ],
      "execution_count": 0,
      "outputs": []
    },
    {
      "cell_type": "code",
      "metadata": {
        "id": "vGSwmtyB9zmb",
        "colab_type": "code",
        "colab": {}
      },
      "source": [
        "X_train , X_test, y_train, y_test = train_test_split(X,y,test_size=0.3,random_state=2019,stratify=y)\n",
        "\n",
        "gaussian = GaussianNB()\n",
        "gaussian.fit(X_train, y_train)\n",
        "y_pred = gaussian.predict(X_test)\n"
      ],
      "execution_count": 0,
      "outputs": []
    },
    {
      "cell_type": "code",
      "metadata": {
        "id": "stHFnLTi-K3C",
        "colab_type": "code",
        "colab": {
          "base_uri": "https://localhost:8080/",
          "height": 52
        },
        "outputId": "88b33e3b-8487-4ae1-ff9f-3a0c78659023"
      },
      "source": [
        "print(confusion_matrix(y_test, y_pred))\n"
      ],
      "execution_count": 12,
      "outputs": [
        {
          "output_type": "stream",
          "text": [
            "[[17 17]\n",
            " [ 6 23]]\n"
          ],
          "name": "stdout"
        }
      ]
    },
    {
      "cell_type": "code",
      "metadata": {
        "id": "z0oZEzGN-MZS",
        "colab_type": "code",
        "colab": {
          "base_uri": "https://localhost:8080/",
          "height": 173
        },
        "outputId": "3dea60fa-2235-487a-8055-e3e6a2305165"
      },
      "source": [
        "print(classification_report(y_test, y_pred))\n"
      ],
      "execution_count": 13,
      "outputs": [
        {
          "output_type": "stream",
          "text": [
            "              precision    recall  f1-score   support\n",
            "\n",
            "           0       0.74      0.50      0.60        34\n",
            "           1       0.57      0.79      0.67        29\n",
            "\n",
            "    accuracy                           0.63        63\n",
            "   macro avg       0.66      0.65      0.63        63\n",
            "weighted avg       0.66      0.63      0.63        63\n",
            "\n"
          ],
          "name": "stdout"
        }
      ]
    },
    {
      "cell_type": "code",
      "metadata": {
        "id": "L2xabj4i-NdK",
        "colab_type": "code",
        "colab": {
          "base_uri": "https://localhost:8080/",
          "height": 34
        },
        "outputId": "0e029ab4-bc3d-43b6-8227-4fbe3ea8d026"
      },
      "source": [
        "print(accuracy_score(y_test, y_pred))"
      ],
      "execution_count": 14,
      "outputs": [
        {
          "output_type": "stream",
          "text": [
            "0.6349206349206349\n"
          ],
          "name": "stdout"
        }
      ]
    },
    {
      "cell_type": "code",
      "metadata": {
        "id": "X885g1UI-PES",
        "colab_type": "code",
        "colab": {
          "base_uri": "https://localhost:8080/",
          "height": 312
        },
        "outputId": "d5fc6e70-6b8b-4387-ea63-787e9474d440"
      },
      "source": [
        "from sklearn.metrics import roc_curve, roc_auc_score\n",
        "\n",
        "# Compute predicted probabilities: y_pred_prob\n",
        "probs = gaussian.predict_proba(X_test)\n",
        "y_pred_prob = probs[:,1]\n",
        "\n",
        "# Generate ROC curve values: fpr, tpr, thresholds\n",
        "fpr, tpr, thresholds = roc_curve(y_test, y_pred_prob)\n",
        "\n",
        "# Plot ROC curve\n",
        "import matplotlib.pyplot as plt\n",
        "plt.plot([0, 1], [0, 1], 'k--')\n",
        "plt.plot(fpr, tpr)\n",
        "plt.xlabel('False Positive Rate')\n",
        "plt.ylabel('True Positive Rate')\n",
        "plt.title('ROC Curve')\n",
        "plt.show()\n",
        "roc_auc_score(y_test, y_pred_prob)"
      ],
      "execution_count": 15,
      "outputs": [
        {
          "output_type": "display_data",
          "data": {
            "image/png": "[encoded data removed]",
            "text/plain": [
              "<Figure size 432x288 with 1 Axes>"
            ]
          },
          "metadata": {
            "tags": []
          }
        },
        {
          "output_type": "execute_result",
          "data": {
            "text/plain": [
              "0.755578093306288"
            ]
          },
          "metadata": {
            "tags": []
          },
          "execution_count": 15
        }
      ]
    },
    {
      "cell_type": "markdown",
      "metadata": {
        "id": "dQliQLRcIH47",
        "colab_type": "text"
      },
      "source": [
        ""
      ]
    },
    {
      "cell_type": "code",
      "metadata": {
        "id": "2e-tA4rV-RIK",
        "colab_type": "code",
        "colab": {}
      },
      "source": [
        ""
      ],
      "execution_count": 0,
      "outputs": []
    }
  ]
}