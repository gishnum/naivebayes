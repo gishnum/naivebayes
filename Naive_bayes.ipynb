{
  "nbformat": 4,
  "nbformat_minor": 0,
  "metadata": {
    "colab": {
      "name": "Naive_bayes",
      "version": "0.3.2",
      "provenance": [],
      "include_colab_link": true
    },
    "kernelspec": {
      "name": "python3",
      "display_name": "Python 3"
    }
  },
  "cells": [
    {
      "cell_type": "markdown",
      "metadata": {
        "id": "view-in-github",
        "colab_type": "text"
      },
      "source": [
        "<a href=\"https://colab.research.google.com/github/gishnum/naivebayes/blob/master/Naive_bayes.ipynb\" target=\"_parent\"><img src=\"https://colab.research.google.com/assets/colab-badge.svg\" alt=\"Open In Colab\"/></a>"
      ]
    },
    {
      "cell_type": "code",
      "metadata": {
        "id": "SSMvhXBSicuW",
        "colab_type": "code",
        "colab": {}
      },
      "source": [
        "from sklearn.naive_bayes import MultinomialNB\n",
        "\n"
      ],
      "execution_count": 0,
      "outputs": []
    },
    {
      "cell_type": "code",
      "metadata": {
        "id": "fFy3dGb1o7HN",
        "colab_type": "code",
        "colab": {}
      },
      "source": [
        "url = 'https://raw.githubusercontent.com/gishnum/naive-bayes-/master/Cancer.csv?token=AKA6I5QZZZBHDZAUY6GPJBC45NXVC'\n",
        "\n",
        "import pandas as pd\n",
        "import numpy as np\n",
        "\n",
        "df = pd.read_csv(url)"
      ],
      "execution_count": 0,
      "outputs": []
    },
    {
      "cell_type": "code",
      "metadata": {
        "id": "04zxN0kbqr4X",
        "colab_type": "code",
        "colab": {
          "base_uri": "https://localhost:8080/",
          "height": 198
        },
        "outputId": "7cc4c283-b5d1-4a1d-c145-ea083ab237ca"
      },
      "source": [
        "df.head()"
      ],
      "execution_count": 5,
      "outputs": [
        {
          "output_type": "execute_result",
          "data": {
            "text/html": [
              "<div>\n",
              "<style scoped>\n",
              "    .dataframe tbody tr th:only-of-type {\n",
              "        vertical-align: middle;\n",
              "    }\n",
              "\n",
              "    .dataframe tbody tr th {\n",
              "        vertical-align: top;\n",
              "    }\n",
              "\n",
              "    .dataframe thead th {\n",
              "        text-align: right;\n",
              "    }\n",
              "</style>\n",
              "<table border=\"1\" class=\"dataframe\">\n",
              "  <thead>\n",
              "    <tr style=\"text-align: right;\">\n",
              "      <th></th>\n",
              "      <th>subjid</th>\n",
              "      <th>age</th>\n",
              "      <th>menopause</th>\n",
              "      <th>tumor-size</th>\n",
              "      <th>inv-nodes</th>\n",
              "      <th>node-caps</th>\n",
              "      <th>deg-malig</th>\n",
              "      <th>breast</th>\n",
              "      <th>breast-quad</th>\n",
              "      <th>irradiat</th>\n",
              "      <th>Class</th>\n",
              "    </tr>\n",
              "  </thead>\n",
              "  <tbody>\n",
              "    <tr>\n",
              "      <th>0</th>\n",
              "      <td>1</td>\n",
              "      <td>40-49</td>\n",
              "      <td>premeno</td>\n",
              "      <td>15-19</td>\n",
              "      <td>0-2</td>\n",
              "      <td>yes</td>\n",
              "      <td>3</td>\n",
              "      <td>right</td>\n",
              "      <td>left_up</td>\n",
              "      <td>no</td>\n",
              "      <td>recurrence-events</td>\n",
              "    </tr>\n",
              "    <tr>\n",
              "      <th>1</th>\n",
              "      <td>2</td>\n",
              "      <td>50-59</td>\n",
              "      <td>ge40</td>\n",
              "      <td>15-19</td>\n",
              "      <td>0-2</td>\n",
              "      <td>no</td>\n",
              "      <td>1</td>\n",
              "      <td>right</td>\n",
              "      <td>central</td>\n",
              "      <td>no</td>\n",
              "      <td>no-recurrence-events</td>\n",
              "    </tr>\n",
              "    <tr>\n",
              "      <th>2</th>\n",
              "      <td>3</td>\n",
              "      <td>50-59</td>\n",
              "      <td>ge40</td>\n",
              "      <td>35-39</td>\n",
              "      <td>0-2</td>\n",
              "      <td>no</td>\n",
              "      <td>2</td>\n",
              "      <td>left</td>\n",
              "      <td>left_low</td>\n",
              "      <td>no</td>\n",
              "      <td>recurrence-events</td>\n",
              "    </tr>\n",
              "    <tr>\n",
              "      <th>3</th>\n",
              "      <td>4</td>\n",
              "      <td>40-49</td>\n",
              "      <td>premeno</td>\n",
              "      <td>35-39</td>\n",
              "      <td>0-2</td>\n",
              "      <td>yes</td>\n",
              "      <td>3</td>\n",
              "      <td>right</td>\n",
              "      <td>left_low</td>\n",
              "      <td>yes</td>\n",
              "      <td>no-recurrence-events</td>\n",
              "    </tr>\n",
              "    <tr>\n",
              "      <th>4</th>\n",
              "      <td>5</td>\n",
              "      <td>40-49</td>\n",
              "      <td>premeno</td>\n",
              "      <td>30-34</td>\n",
              "      <td>3-5</td>\n",
              "      <td>yes</td>\n",
              "      <td>2</td>\n",
              "      <td>left</td>\n",
              "      <td>right_up</td>\n",
              "      <td>no</td>\n",
              "      <td>recurrence-events</td>\n",
              "    </tr>\n",
              "  </tbody>\n",
              "</table>\n",
              "</div>"
            ],
            "text/plain": [
              "   subjid    age menopause  ... breast-quad irradiat                 Class\n",
              "0       1  40-49   premeno  ...     left_up       no     recurrence-events\n",
              "1       2  50-59      ge40  ...     central       no  no-recurrence-events\n",
              "2       3  50-59      ge40  ...    left_low       no     recurrence-events\n",
              "3       4  40-49   premeno  ...    left_low      yes  no-recurrence-events\n",
              "4       5  40-49   premeno  ...    right_up       no     recurrence-events\n",
              "\n",
              "[5 rows x 11 columns]"
            ]
          },
          "metadata": {
            "tags": []
          },
          "execution_count": 5
        }
      ]
    },
    {
      "cell_type": "code",
      "metadata": {
        "id": "Tqv96nm7quF-",
        "colab_type": "code",
        "colab": {}
      },
      "source": [
        "\n",
        "dum_cancer = pd.get_dummies(df, drop_first=True)\n",
        "\n",
        "from sklearn.model_selection import train_test_split\n",
        "from sklearn.metrics import confusion_matrix\n",
        "from sklearn.metrics import classification_report, accuracy_score\n",
        "from sklearn.naive_bayes import MultinomialNB"
      ],
      "execution_count": 0,
      "outputs": []
    },
    {
      "cell_type": "code",
      "metadata": {
        "id": "TcF_YWV7rhCn",
        "colab_type": "code",
        "colab": {}
      },
      "source": [
        "\n",
        "X = dum_cancer.iloc[:,1:10]\n",
        "y= dum_cancer.iloc[:,10]"
      ],
      "execution_count": 0,
      "outputs": []
    },
    {
      "cell_type": "code",
      "metadata": {
        "id": "rhZ1tK9PsVbo",
        "colab_type": "code",
        "colab": {
          "base_uri": "https://localhost:8080/",
          "height": 121
        },
        "outputId": "d732155d-7d40-4549-a110-b0c1cbea03b6"
      },
      "source": [
        "y.head()"
      ],
      "execution_count": 8,
      "outputs": [
        {
          "output_type": "execute_result",
          "data": {
            "text/plain": [
              "0    1\n",
              "1    1\n",
              "2    0\n",
              "3    0\n",
              "4    0\n",
              "Name: tumor-size_15-19, dtype: uint8"
            ]
          },
          "metadata": {
            "tags": []
          },
          "execution_count": 8
        }
      ]
    },
    {
      "cell_type": "code",
      "metadata": {
        "id": "kmkEcYaysZV2",
        "colab_type": "code",
        "colab": {
          "base_uri": "https://localhost:8080/",
          "height": 34
        },
        "outputId": "6ee10841-cfde-4ec0-8a88-6d044eed787f"
      },
      "source": [
        "X_train, X_test, y_train, y_test = train_test_split(X,y,test_size=0.3,random_state=42,stratify=y)\n",
        "\n",
        "multinomial = MultinomialNB()\n",
        "multinomial.fit(X_train,y_train) # model building"
      ],
      "execution_count": 9,
      "outputs": [
        {
          "output_type": "execute_result",
          "data": {
            "text/plain": [
              "MultinomialNB(alpha=1.0, class_prior=None, fit_prior=True)"
            ]
          },
          "metadata": {
            "tags": []
          },
          "execution_count": 9
        }
      ]
    },
    {
      "cell_type": "code",
      "metadata": {
        "id": "uybwSNeds9q2",
        "colab_type": "code",
        "colab": {}
      },
      "source": [
        "y_probs = multinomial.predict_proba(X_test)\n",
        "y_pred = multinomial.predict(X_test)"
      ],
      "execution_count": 0,
      "outputs": []
    },
    {
      "cell_type": "code",
      "metadata": {
        "id": "wEiVv4e4tRAG",
        "colab_type": "code",
        "colab": {
          "base_uri": "https://localhost:8080/",
          "height": 52
        },
        "outputId": "8136f5e1-3b6a-4287-b46f-419579270e1c"
      },
      "source": [
        "print(confusion_matrix(y_test,y_pred))\n"
      ],
      "execution_count": 13,
      "outputs": [
        {
          "output_type": "stream",
          "text": [
            "[[77  0]\n",
            " [ 9  0]]\n"
          ],
          "name": "stdout"
        }
      ]
    },
    {
      "cell_type": "code",
      "metadata": {
        "id": "d144N69Btm-1",
        "colab_type": "code",
        "colab": {
          "base_uri": "https://localhost:8080/",
          "height": 227
        },
        "outputId": "3ef216c8-55d0-4877-f786-3439adf62cc1"
      },
      "source": [
        "print(classification_report(y_test,y_pred))\n"
      ],
      "execution_count": 14,
      "outputs": [
        {
          "output_type": "stream",
          "text": [
            "              precision    recall  f1-score   support\n",
            "\n",
            "           0       0.90      1.00      0.94        77\n",
            "           1       0.00      0.00      0.00         9\n",
            "\n",
            "    accuracy                           0.90        86\n",
            "   macro avg       0.45      0.50      0.47        86\n",
            "weighted avg       0.80      0.90      0.85        86\n",
            "\n"
          ],
          "name": "stdout"
        },
        {
          "output_type": "stream",
          "text": [
            "/usr/local/lib/python3.6/dist-packages/sklearn/metrics/classification.py:1437: UndefinedMetricWarning: Precision and F-score are ill-defined and being set to 0.0 in labels with no predicted samples.\n",
            "  'precision', 'predicted', average, warn_for)\n"
          ],
          "name": "stderr"
        }
      ]
    },
    {
      "cell_type": "code",
      "metadata": {
        "id": "BE0ccl7Vtoum",
        "colab_type": "code",
        "colab": {
          "base_uri": "https://localhost:8080/",
          "height": 34
        },
        "outputId": "782d7639-6449-466b-e3ab-a9b73b23e6d5"
      },
      "source": [
        "print(accuracy_score(y_test,y_pred))"
      ],
      "execution_count": 15,
      "outputs": [
        {
          "output_type": "stream",
          "text": [
            "0.8953488372093024\n"
          ],
          "name": "stdout"
        }
      ]
    },
    {
      "cell_type": "code",
      "metadata": {
        "id": "YufpqCdktwgl",
        "colab_type": "code",
        "colab": {
          "base_uri": "https://localhost:8080/",
          "height": 276
        },
        "outputId": "d5504a7f-dfb7-4ec6-f326-a58fcedc3cbb"
      },
      "source": [
        "\n",
        "from sklearn.metrics import roc_curve,roc_auc_score\n",
        "\n",
        "y_pred_prob = y_probs[:,1]\n",
        "\n",
        "print(y_pred_prob)"
      ],
      "execution_count": 20,
      "outputs": [
        {
          "output_type": "stream",
          "text": [
            "[0.05977736 0.17825408 0.17825408 0.12185681 0.083721   0.09040105\n",
            " 0.10470382 0.17825408 0.10840216 0.10840216 0.09866728 0.12185681\n",
            " 0.02861601 0.05085681 0.17825408 0.12185681 0.03252906 0.12185681\n",
            " 0.04019492 0.03051184 0.17825408 0.12185681 0.03051184 0.09866728\n",
            " 0.09866728 0.18814342 0.02861601 0.083721   0.10470382 0.18814342\n",
            " 0.17825408 0.11495832 0.03252906 0.04282404 0.12185681 0.07878773\n",
            " 0.083721   0.01421444 0.03051184 0.09866728 0.17825408 0.04280896\n",
            " 0.03051184 0.04282404 0.04775913 0.10840216 0.04282404 0.1687765\n",
            " 0.04282404 0.01517106 0.02861601 0.03252906 0.07878773 0.02861601\n",
            " 0.083721   0.02861601 0.14088332 0.08893334 0.03252906 0.11495832\n",
            " 0.12185681 0.02861601 0.02861601 0.03051184 0.1687765  0.1687765\n",
            " 0.05616849 0.10840216 0.09866728 0.02861601 0.083721   0.03051184\n",
            " 0.1687765  0.02861601 0.09294263 0.08893334 0.17825408 0.09040105\n",
            " 0.10840216 0.10840216 0.03051184 0.09866728 0.1687765  0.17825408\n",
            " 0.02861601 0.03051184]\n"
          ],
          "name": "stdout"
        }
      ]
    },
    {
      "cell_type": "code",
      "metadata": {
        "id": "yYm1I5uUvOfI",
        "colab_type": "code",
        "colab": {
          "base_uri": "https://localhost:8080/",
          "height": 312
        },
        "outputId": "d79aeb50-b100-436f-e931-239ac507226e"
      },
      "source": [
        "fpr,tpr,thresholds = roc_curve(y_test,y_pred_prob)\n",
        "\n",
        "import  matplotlib.pyplot as plt\n",
        "\n",
        "plt.plot([0,1],[0,1],'k--')\n",
        "plt.plot(fpr,tpr)\n",
        "\n",
        "plt.xlabel('FPR(false positive rate)')\n",
        "plt.ylabel('TPR(true positive rate)')\n",
        "plt.title('ROC Curve')\n",
        "plt.show()\n",
        "\n",
        "roc_auc_score(y_test,y_pred_prob)"
      ],
      "execution_count": 23,
      "outputs": [
        {
          "output_type": "display_data",
          "data": {
            "image/png": "[encoded data removed]",
            "text/plain": [
              "<Figure size 432x288 with 1 Axes>"
            ]
          },
          "metadata": {
            "tags": []
          }
        },
        {
          "output_type": "execute_result",
          "data": {
            "text/plain": [
              "0.5072150072150071"
            ]
          },
          "metadata": {
            "tags": []
          },
          "execution_count": 23
        }
      ]
    },
    {
      "cell_type": "code",
      "metadata": {
        "id": "vllepw7ZwLu1",
        "colab_type": "code",
        "colab": {
          "base_uri": "https://localhost:8080/",
          "height": 155
        },
        "outputId": "97959887-6b5a-4c34-eb59-3717887819f5"
      },
      "source": [
        "print(dum_cancer.head())"
      ],
      "execution_count": 25,
      "outputs": [
        {
          "output_type": "stream",
          "text": [
            "   subjid  deg-malig  ...  irradiat_yes  Class_recurrence-events\n",
            "0       1          3  ...             0                        1\n",
            "1       2          1  ...             0                        0\n",
            "2       3          2  ...             0                        1\n",
            "3       4          3  ...             1                        0\n",
            "4       5          2  ...             0                        1\n",
            "\n",
            "[5 rows x 33 columns]\n"
          ],
          "name": "stdout"
        }
      ]
    }
  ]
}