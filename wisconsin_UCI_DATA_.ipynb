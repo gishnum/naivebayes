{
  "nbformat": 4,
  "nbformat_minor": 0,
  "metadata": {
    "colab": {
      "name": "wisconsin_UCI_DATA_",
      "version": "0.3.2",
      "provenance": [],
      "include_colab_link": true
    },
    "kernelspec": {
      "name": "python3",
      "display_name": "Python 3"
    }
  },
  "cells": [
    {
      "cell_type": "markdown",
      "metadata": {
        "id": "view-in-github",
        "colab_type": "text"
      },
      "source": [
        "<a href=\"https://colab.research.google.com/github/gishnum/naivebayes/blob/master/wisconsin_UCI_DATA_.ipynb\" target=\"_parent\"><img src=\"https://colab.research.google.com/assets/colab-badge.svg\" alt=\"Open In Colab\"/></a>"
      ]
    },
    {
      "cell_type": "code",
      "metadata": {
        "id": "RgWJWuvKS8GA",
        "colab_type": "code",
        "colab": {}
      },
      "source": [
        "import pandas as pd\n",
        "\n",
        "url ='https://raw.githubusercontent.com/gishnum/naive-bayes-/master/BreastCancer.csv?token=AKA6I5V6YUET5HJVHKKDVA245OVNG'\n",
        "\n",
        "df = pd.read_csv(url)"
      ],
      "execution_count": 0,
      "outputs": []
    },
    {
      "cell_type": "code",
      "metadata": {
        "id": "5cZpOgJgTuhF",
        "colab_type": "code",
        "colab": {
          "base_uri": "https://localhost:8080/",
          "height": 155
        },
        "outputId": "792b6702-ac72-42de-9688-bf47995b980d"
      },
      "source": [
        "from sklearn.linear_model import LogisticRegression\n",
        "from sklearn.naive_bayes import GaussianNB\n",
        "from sklearn.model_selection import StratifiedKFold\n",
        "from sklearn.model_selection import cross_val_score\n",
        "\n",
        "dum_wis = pd.get_dummies(df, drop_first=True)\n",
        "\n",
        "print(dum_wis.head())\n"
      ],
      "execution_count": 6,
      "outputs": [
        {
          "output_type": "stream",
          "text": [
            "     Code  Clump  UniCell_Size  ...  NoemN  Mitoses  Class_Malignant\n",
            "0   61634      5             4  ...      3        1                0\n",
            "1   63375      9             1  ...      7        2                1\n",
            "2   76389     10             4  ...      1        1                1\n",
            "3   95719      6            10  ...     10        7                1\n",
            "4  128059      1             1  ...      1        1                0\n",
            "\n",
            "[5 rows x 11 columns]\n"
          ],
          "name": "stdout"
        }
      ]
    },
    {
      "cell_type": "code",
      "metadata": {
        "id": "JGE8vRVyktnK",
        "colab_type": "code",
        "colab": {}
      },
      "source": [
        "dum_wis = pd.get_dummies(df, drop_first=True)\n",
        "\n",
        "X = dum_wis.iloc[:,0:10]\n",
        "y= dum_wis.iloc[:,10]\n"
      ],
      "execution_count": 0,
      "outputs": []
    },
    {
      "cell_type": "code",
      "metadata": {
        "id": "jl6JltyHryvT",
        "colab_type": "code",
        "colab": {
          "base_uri": "https://localhost:8080/",
          "height": 52
        },
        "outputId": "b37ad42e-ecba-433c-ff92-feb3e82608f1"
      },
      "source": [
        "#splits = 3\n",
        "#gaussian naive bayes\n",
        "\n",
        "kfold = StratifiedKFold(n_splits=3, random_state=42)\n",
        "gauss = GaussianNB()\n",
        "\n",
        "results = cross_val_score(gauss, X, y, cv=kfold, \n",
        "                          scoring='roc_auc')\n",
        "print(results)\n",
        "print(\"ROC AUC: %.4f (%.4f)\" % (results.mean(), results.std()))"
      ],
      "execution_count": 9,
      "outputs": [
        {
          "output_type": "stream",
          "text": [
            "[0.3900589  0.99289216 0.98412829]\n",
            "ROC AUC: 0.7890 (0.2821)\n"
          ],
          "name": "stdout"
        }
      ]
    },
    {
      "cell_type": "code",
      "metadata": {
        "id": "1Yu1O1Mer7in",
        "colab_type": "code",
        "colab": {
          "base_uri": "https://localhost:8080/",
          "height": 175
        },
        "outputId": "6bfc357b-e27b-45f8-f094-caace1f12e88"
      },
      "source": [
        "#splits = 3\n",
        "# logistic regression\n",
        "\n",
        "kfold = StratifiedKFold(n_splits=3, random_state=42)\n",
        "logis = LogisticRegression()\n",
        "\n",
        "results = cross_val_score(logis, X, y, cv=kfold, \n",
        "                          scoring='roc_auc')\n",
        "print(results)\n",
        "print(\"ROC AUC: %.4f (%.4f)\" % (results.mean(), results.std()))"
      ],
      "execution_count": 10,
      "outputs": [
        {
          "output_type": "stream",
          "text": [
            "[0.62002743 0.72647059 0.69276316]\n",
            "ROC AUC: 0.6798 (0.0444)\n"
          ],
          "name": "stdout"
        },
        {
          "output_type": "stream",
          "text": [
            "/usr/local/lib/python3.6/dist-packages/sklearn/linear_model/logistic.py:432: FutureWarning: Default solver will be changed to 'lbfgs' in 0.22. Specify a solver to silence this warning.\n",
            "  FutureWarning)\n",
            "/usr/local/lib/python3.6/dist-packages/sklearn/linear_model/logistic.py:432: FutureWarning: Default solver will be changed to 'lbfgs' in 0.22. Specify a solver to silence this warning.\n",
            "  FutureWarning)\n",
            "/usr/local/lib/python3.6/dist-packages/sklearn/linear_model/logistic.py:432: FutureWarning: Default solver will be changed to 'lbfgs' in 0.22. Specify a solver to silence this warning.\n",
            "  FutureWarning)\n"
          ],
          "name": "stderr"
        }
      ]
    },
    {
      "cell_type": "code",
      "metadata": {
        "id": "T1u5ndCfseZS",
        "colab_type": "code",
        "colab": {
          "base_uri": "https://localhost:8080/",
          "height": 69
        },
        "outputId": "11049716-c338-4d7c-ba93-ba139ecbec7b"
      },
      "source": [
        "#splits = 10\n",
        "#gaussian naive bayes\n",
        "\n",
        "kfold = StratifiedKFold(n_splits=10, random_state=42)\n",
        "gauss = GaussianNB()\n",
        "\n",
        "results = cross_val_score(gauss, X, y, cv=kfold, \n",
        "                          scoring='roc_auc')\n",
        "print(results)\n",
        "print(\"ROC AUC: %.4f (%.4f)\" % (results.mean(), results.std()))\n"
      ],
      "execution_count": 11,
      "outputs": [
        {
          "output_type": "stream",
          "text": [
            "[0.24173913 0.70380435 0.95652174 0.98822464 1.         1.\n",
            " 0.99456522 0.99818841 0.99814815 0.95555556]\n",
            "ROC AUC: 0.8837 (0.2305)\n"
          ],
          "name": "stdout"
        }
      ]
    },
    {
      "cell_type": "code",
      "metadata": {
        "id": "bXU-opPBr9Fv",
        "colab_type": "code",
        "colab": {
          "base_uri": "https://localhost:8080/",
          "height": 435
        },
        "outputId": "a6d8ce42-312f-4bbc-bb34-9495eb423cf3"
      },
      "source": [
        "#splits = 10\n",
        "# logistic regression\n",
        "\n",
        "kfold = StratifiedKFold(n_splits=10, random_state=42)\n",
        "logis = LogisticRegression()\n",
        "\n",
        "results = cross_val_score(logis, X, y, cv=kfold, \n",
        "                          scoring='roc_auc')\n",
        "print(results)\n",
        "print(\"ROC AUC: %.4f (%.4f)\" % (results.mean(), results.std()))"
      ],
      "execution_count": 12,
      "outputs": [
        {
          "output_type": "stream",
          "text": [
            "[0.80608696 0.83605072 0.84692029 0.75181159 1.         1.\n",
            " 0.98007246 1.         0.96018519 0.68240741]\n",
            "ROC AUC: 0.8864 (0.1110)\n"
          ],
          "name": "stdout"
        },
        {
          "output_type": "stream",
          "text": [
            "/usr/local/lib/python3.6/dist-packages/sklearn/linear_model/logistic.py:432: FutureWarning: Default solver will be changed to 'lbfgs' in 0.22. Specify a solver to silence this warning.\n",
            "  FutureWarning)\n",
            "/usr/local/lib/python3.6/dist-packages/sklearn/linear_model/logistic.py:432: FutureWarning: Default solver will be changed to 'lbfgs' in 0.22. Specify a solver to silence this warning.\n",
            "  FutureWarning)\n",
            "/usr/local/lib/python3.6/dist-packages/sklearn/linear_model/logistic.py:432: FutureWarning: Default solver will be changed to 'lbfgs' in 0.22. Specify a solver to silence this warning.\n",
            "  FutureWarning)\n",
            "/usr/local/lib/python3.6/dist-packages/sklearn/linear_model/logistic.py:432: FutureWarning: Default solver will be changed to 'lbfgs' in 0.22. Specify a solver to silence this warning.\n",
            "  FutureWarning)\n",
            "/usr/local/lib/python3.6/dist-packages/sklearn/linear_model/logistic.py:432: FutureWarning: Default solver will be changed to 'lbfgs' in 0.22. Specify a solver to silence this warning.\n",
            "  FutureWarning)\n",
            "/usr/local/lib/python3.6/dist-packages/sklearn/linear_model/logistic.py:432: FutureWarning: Default solver will be changed to 'lbfgs' in 0.22. Specify a solver to silence this warning.\n",
            "  FutureWarning)\n",
            "/usr/local/lib/python3.6/dist-packages/sklearn/linear_model/logistic.py:432: FutureWarning: Default solver will be changed to 'lbfgs' in 0.22. Specify a solver to silence this warning.\n",
            "  FutureWarning)\n",
            "/usr/local/lib/python3.6/dist-packages/sklearn/linear_model/logistic.py:432: FutureWarning: Default solver will be changed to 'lbfgs' in 0.22. Specify a solver to silence this warning.\n",
            "  FutureWarning)\n",
            "/usr/local/lib/python3.6/dist-packages/sklearn/linear_model/logistic.py:432: FutureWarning: Default solver will be changed to 'lbfgs' in 0.22. Specify a solver to silence this warning.\n",
            "  FutureWarning)\n",
            "/usr/local/lib/python3.6/dist-packages/sklearn/linear_model/logistic.py:432: FutureWarning: Default solver will be changed to 'lbfgs' in 0.22. Specify a solver to silence this warning.\n",
            "  FutureWarning)\n"
          ],
          "name": "stderr"
        }
      ]
    },
    {
      "cell_type": "code",
      "metadata": {
        "id": "lg444sNnsgRQ",
        "colab_type": "code",
        "colab": {}
      },
      "source": [
        ""
      ],
      "execution_count": 0,
      "outputs": []
    }
  ]
}