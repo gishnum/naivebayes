{
  "nbformat": 4,
  "nbformat_minor": 0,
  "metadata": {
    "colab": {
      "name": "Kfold_study_gausian&logistic",
      "version": "0.3.2",
      "provenance": [],
      "collapsed_sections": [],
      "include_colab_link": true
    },
    "kernelspec": {
      "name": "python3",
      "display_name": "Python 3"
    }
  },
  "cells": [
    {
      "cell_type": "markdown",
      "metadata": {
        "id": "view-in-github",
        "colab_type": "text"
      },
      "source": [
        "<a href=\"https://colab.research.google.com/github/gishnum/naivebayes/blob/master/Kfold_study_gausian%26logistic.ipynb\" target=\"_parent\"><img src=\"https://colab.research.google.com/assets/colab-badge.svg\" alt=\"Open In Colab\"/></a>"
      ]
    },
    {
      "cell_type": "code",
      "metadata": {
        "id": "HczG7NGGIQEo",
        "colab_type": "code",
        "colab": {}
      },
      "source": [
        "import pandas as pd\n",
        "\n",
        "url = 'https://raw.githubusercontent.com/gishnum/naive-bayes-/master/Sonar%20(1).csv?token=AKA6I5RKC5ZMJJOEHSHQR5C45OHEE'\n",
        "\n",
        "df = pd.read_csv(url)"
      ],
      "execution_count": 0,
      "outputs": []
    },
    {
      "cell_type": "code",
      "metadata": {
        "id": "TOU6ngiDI3LI",
        "colab_type": "code",
        "colab": {}
      },
      "source": [
        "from sklearn.linear_model import LogisticRegression\n",
        "from sklearn.naive_bayes import GaussianNB\n",
        "from sklearn.model_selection import StratifiedKFold\n",
        "from sklearn.model_selection import cross_val_score\n",
        "\n"
      ],
      "execution_count": 0,
      "outputs": []
    },
    {
      "cell_type": "code",
      "metadata": {
        "id": "dvkbEY1OKE8T",
        "colab_type": "code",
        "colab": {}
      },
      "source": [
        "dum_sonar = pd.get_dummies(df, drop_first=True)\n"
      ],
      "execution_count": 0,
      "outputs": []
    },
    {
      "cell_type": "code",
      "metadata": {
        "id": "u7N8Avb6JWty",
        "colab_type": "code",
        "colab": {}
      },
      "source": [
        "X = dum_sonar.iloc[:,0:60]\n",
        "y= dum_sonar.iloc[:,60]"
      ],
      "execution_count": 0,
      "outputs": []
    },
    {
      "cell_type": "code",
      "metadata": {
        "id": "u1bJAVT7NSjA",
        "colab_type": "code",
        "colab": {
          "base_uri": "https://localhost:8080/",
          "height": 52
        },
        "outputId": "02f1d94e-e8db-4623-ede7-89aca8d73de1"
      },
      "source": [
        "#splits = 3\n",
        "#gaussian naive bayes\n",
        "\n",
        "kfold = StratifiedKFold(n_splits=3, random_state=42)\n",
        "gauss = GaussianNB()\n",
        "\n",
        "results = cross_val_score(gauss, X, y, cv=kfold, \n",
        "                          scoring='roc_auc')\n",
        "print(results)\n",
        "print(\"ROC AUC: %.4f (%.4f)\" % (results.mean(), results.std()))"
      ],
      "execution_count": 37,
      "outputs": [
        {
          "output_type": "stream",
          "text": [
            "[0.5995086  0.77027027 0.54222973]\n",
            "ROC AUC: 0.6373 (0.0969)\n"
          ],
          "name": "stdout"
        }
      ]
    },
    {
      "cell_type": "code",
      "metadata": {
        "id": "PEjQ8jntLOPL",
        "colab_type": "code",
        "colab": {
          "base_uri": "https://localhost:8080/",
          "height": 69
        },
        "outputId": "444800b0-8910-43b7-fa37-62205dde5627"
      },
      "source": [
        "#splits = 10\n",
        "#gaussian naive bayes\n",
        "\n",
        "kfold = StratifiedKFold(n_splits=10, random_state=42)\n",
        "gauss = GaussianNB()\n",
        "\n",
        "results = cross_val_score(gauss, X, y, cv=kfold, \n",
        "                          scoring='roc_auc')\n",
        "print(results)\n",
        "print(\"ROC AUC: %.4f (%.4f)\" % (results.mean(), results.std()))\n"
      ],
      "execution_count": 34,
      "outputs": [
        {
          "output_type": "stream",
          "text": [
            "[0.61666667 0.74545455 0.75454545 0.97272727 0.79090909 0.94545455\n",
            " 1.         0.8989899  0.17171717 0.45454545]\n",
            "ROC AUC: 0.7351 (0.2473)\n"
          ],
          "name": "stdout"
        }
      ]
    },
    {
      "cell_type": "code",
      "metadata": {
        "id": "EoxxmepCNZS3",
        "colab_type": "code",
        "colab": {
          "base_uri": "https://localhost:8080/",
          "height": 175
        },
        "outputId": "8e8b8f89-11a7-4785-df8f-c58dd2e5bb5f"
      },
      "source": [
        "#splits = 3\n",
        "# logistic regression\n",
        "\n",
        "kfold = StratifiedKFold(n_splits=3, random_state=42)\n",
        "logis = LogisticRegression()\n",
        "\n",
        "results = cross_val_score(logis, X, y, cv=kfold, \n",
        "                          scoring='roc_auc')\n",
        "print(results)\n",
        "print(\"ROC AUC: %.4f (%.4f)\" % (results.mean(), results.std()))"
      ],
      "execution_count": 32,
      "outputs": [
        {
          "output_type": "stream",
          "text": [
            "[0.55118755 0.77533784 0.63429054]\n",
            "ROC AUC: 0.6536 (0.0925)\n"
          ],
          "name": "stdout"
        },
        {
          "output_type": "stream",
          "text": [
            "/usr/local/lib/python3.6/dist-packages/sklearn/linear_model/logistic.py:432: FutureWarning: Default solver will be changed to 'lbfgs' in 0.22. Specify a solver to silence this warning.\n",
            "  FutureWarning)\n",
            "/usr/local/lib/python3.6/dist-packages/sklearn/linear_model/logistic.py:432: FutureWarning: Default solver will be changed to 'lbfgs' in 0.22. Specify a solver to silence this warning.\n",
            "  FutureWarning)\n",
            "/usr/local/lib/python3.6/dist-packages/sklearn/linear_model/logistic.py:432: FutureWarning: Default solver will be changed to 'lbfgs' in 0.22. Specify a solver to silence this warning.\n",
            "  FutureWarning)\n"
          ],
          "name": "stderr"
        }
      ]
    },
    {
      "cell_type": "code",
      "metadata": {
        "id": "KLxUfizXOU3f",
        "colab_type": "code",
        "colab": {
          "base_uri": "https://localhost:8080/",
          "height": 435
        },
        "outputId": "1e0270ce-5aa5-41c1-ace1-98eb0b93a58f"
      },
      "source": [
        "#splits = 10\n",
        "# logistic regression\n",
        "\n",
        "kfold = StratifiedKFold(n_splits=10, random_state=42)\n",
        "logis = LogisticRegression()\n",
        "\n",
        "results = cross_val_score(logis, X, y, cv=kfold, \n",
        "                          scoring='roc_auc')\n",
        "print(results)\n",
        "print(\"ROC AUC: %.4f (%.4f)\" % (results.mean(), results.std()))"
      ],
      "execution_count": 39,
      "outputs": [
        {
          "output_type": "stream",
          "text": [
            "[0.225      0.84545455 0.71818182 0.70909091 0.82727273 0.64545455\n",
            " 0.95454545 0.91919192 0.57575758 0.85858586]\n",
            "ROC AUC: 0.7279 (0.2030)\n"
          ],
          "name": "stdout"
        },
        {
          "output_type": "stream",
          "text": [
            "/usr/local/lib/python3.6/dist-packages/sklearn/linear_model/logistic.py:432: FutureWarning: Default solver will be changed to 'lbfgs' in 0.22. Specify a solver to silence this warning.\n",
            "  FutureWarning)\n",
            "/usr/local/lib/python3.6/dist-packages/sklearn/linear_model/logistic.py:432: FutureWarning: Default solver will be changed to 'lbfgs' in 0.22. Specify a solver to silence this warning.\n",
            "  FutureWarning)\n",
            "/usr/local/lib/python3.6/dist-packages/sklearn/linear_model/logistic.py:432: FutureWarning: Default solver will be changed to 'lbfgs' in 0.22. Specify a solver to silence this warning.\n",
            "  FutureWarning)\n",
            "/usr/local/lib/python3.6/dist-packages/sklearn/linear_model/logistic.py:432: FutureWarning: Default solver will be changed to 'lbfgs' in 0.22. Specify a solver to silence this warning.\n",
            "  FutureWarning)\n",
            "/usr/local/lib/python3.6/dist-packages/sklearn/linear_model/logistic.py:432: FutureWarning: Default solver will be changed to 'lbfgs' in 0.22. Specify a solver to silence this warning.\n",
            "  FutureWarning)\n",
            "/usr/local/lib/python3.6/dist-packages/sklearn/linear_model/logistic.py:432: FutureWarning: Default solver will be changed to 'lbfgs' in 0.22. Specify a solver to silence this warning.\n",
            "  FutureWarning)\n",
            "/usr/local/lib/python3.6/dist-packages/sklearn/linear_model/logistic.py:432: FutureWarning: Default solver will be changed to 'lbfgs' in 0.22. Specify a solver to silence this warning.\n",
            "  FutureWarning)\n",
            "/usr/local/lib/python3.6/dist-packages/sklearn/linear_model/logistic.py:432: FutureWarning: Default solver will be changed to 'lbfgs' in 0.22. Specify a solver to silence this warning.\n",
            "  FutureWarning)\n",
            "/usr/local/lib/python3.6/dist-packages/sklearn/linear_model/logistic.py:432: FutureWarning: Default solver will be changed to 'lbfgs' in 0.22. Specify a solver to silence this warning.\n",
            "  FutureWarning)\n",
            "/usr/local/lib/python3.6/dist-packages/sklearn/linear_model/logistic.py:432: FutureWarning: Default solver will be changed to 'lbfgs' in 0.22. Specify a solver to silence this warning.\n",
            "  FutureWarning)\n"
          ],
          "name": "stderr"
        }
      ]
    },
    {
      "cell_type": "code",
      "metadata": {
        "id": "rkpIIgl6MNXQ",
        "colab_type": "code",
        "colab": {
          "base_uri": "https://localhost:8080/",
          "height": 34
        },
        "outputId": "c92e15dc-8e4d-415a-8624-b20ff9a9e060"
      },
      "source": [
        "type(results)\n",
        "#class(results)\n",
        "dir(results)\n",
        "\n",
        "print(results.mean())"
      ],
      "execution_count": 30,
      "outputs": [
        {
          "output_type": "stream",
          "text": [
            "0.5396447583947583\n"
          ],
          "name": "stdout"
        }
      ]
    }
  ]
}